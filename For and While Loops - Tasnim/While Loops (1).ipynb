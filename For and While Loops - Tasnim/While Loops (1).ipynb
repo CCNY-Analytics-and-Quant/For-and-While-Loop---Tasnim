{
 "cells": [
  {
   "cell_type": "code",
   "execution_count": 16,
   "id": "e62719df",
   "metadata": {},
   "outputs": [
    {
     "name": "stdout",
     "output_type": "stream",
     "text": [
      "You will be able to retire at 26 years old with $10000 in your account.\n"
     ]
    }
   ],
   "source": [
    "balance = 10000\n",
    "deposits = 20500\n",
    "current_age = 26\n",
    "salary = 65000\n",
    "\n",
    "def while_investing(balance, deposits, current_age, salary, how_much_i_need_to_retire):\n",
    "    \n",
    "    while balance < how_much_i_need_to_retire:\n",
    "        personal_deposit = (salary * 1.03) * .1\n",
    "        balance = (balance * 1.10) + deposits + personal_deposit\n",
    "        current_age += 1\n",
    "        \n",
    "    return (current_age, balance)\n",
    "\n",
    "print(\"You will be able to retire at {} years old with ${} in your account.\".format(current_age, round(balance, 2)))"
   ]
  },
  {
   "cell_type": "code",
   "execution_count": 25,
   "id": "c86837da",
   "metadata": {},
   "outputs": [
    {
     "ename": "SyntaxError",
     "evalue": "invalid syntax (3978205097.py, line 34)",
     "output_type": "error",
     "traceback": [
      "\u001b[1;36m  File \u001b[1;32m\"C:\\Users\\smukt\\AppData\\Local\\Temp\\ipykernel_13116\\3978205097.py\"\u001b[1;36m, line \u001b[1;32m34\u001b[0m\n\u001b[1;33m    balance = (balance * 1.10) + deposits + personal deposit\u001b[0m\n\u001b[1;37m                                                     ^\u001b[0m\n\u001b[1;31mSyntaxError\u001b[0m\u001b[1;31m:\u001b[0m invalid syntax\n"
     ]
    }
   ],
   "source": [
    "def while_investing(\n",
    "    current_age: int = 22,\n",
    "    salary: int = 70000,\n",
    "    deposits_pct: float = .1,\n",
    "    balance: int = 10000,\n",
    "    how_much_i_need_to_retire: int = 1000000,\n",
    "    prom_rate:int = 1,\n",
    "    salary_increase:int = .125,\n",
    "):\n",
    "    \n",
    "    while balance < how_much_i_need_to_retire:\n",
    "        if current_age % prom_rate == 0:\n",
    "            salary *= salary_increase\n",
    "        personal_deposit = (salary * 1.03) * deposit_pct\n",
    "        balance = (balance * 1.10) + deposits + personal_deposit\n",
    "        current_age += 1\n",
    "    \n",
    "    return print(\n",
    "        \"You will be able to retire at {} years old with ${} in your account.\".format(\n",
    "            current_age, round(balance, 2)\n",
    "        )\n",
    "    )\n",
    "\n",
    "    \n",
    "    for age in range(current_age, (target_age + 1)):\n",
    "        \n",
    "        # looks for the year for promotion based on prom_rate\n",
    "        if age % prom_rate == 0:\n",
    "            # increase salary by rate of salary increase \n",
    "            salary *= .03\n",
    "        \n",
    "        \n",
    "        personal_deposit = salary * deposit_pct\n",
    "        balance = (balance * 1.10) + deposits + personal deposit\n",
    "        current_age += 1\n",
    "    \n",
    "    return print(\n",
    "        \"You will be able to retire at {} years old with ${} in your account.\".format(\n",
    "            current_age, round(balance, 2)\n",
    "        )\n",
    "    )"
   ]
  },
  {
   "cell_type": "code",
   "execution_count": 15,
   "id": "e31545f4",
   "metadata": {},
   "outputs": [
    {
     "name": "stdout",
     "output_type": "stream",
     "text": [
      "At a rate of 2 years per promotion, at 10 pct salary increase:\n",
      "At a rate of 2 years per promotion, at 15 pct salary increase:\n",
      "At a rate of 2 years per promotion, at 20 pct salary increase:\n"
     ]
    }
   ],
   "source": []
  },
  {
   "cell_type": "code",
   "execution_count": null,
   "id": "793f0e06",
   "metadata": {},
   "outputs": [],
   "source": []
  }
 ],
 "metadata": {
  "kernelspec": {
   "display_name": "Python 3 (ipykernel)",
   "language": "python",
   "name": "python3"
  },
  "language_info": {
   "codemirror_mode": {
    "name": "ipython",
    "version": 3
   },
   "file_extension": ".py",
   "mimetype": "text/x-python",
   "name": "python",
   "nbconvert_exporter": "python",
   "pygments_lexer": "ipython3",
   "version": "3.9.13"
  }
 },
 "nbformat": 4,
 "nbformat_minor": 5
}
